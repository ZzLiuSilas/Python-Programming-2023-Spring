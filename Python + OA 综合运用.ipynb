{
 "cells": [
  {
   "cell_type": "code",
   "execution_count": 1,
   "metadata": {
    "collapsed": true
   },
   "outputs": [],
   "source": [
    "import pandas as pd\n",
    "import numpy as np\n",
    "import pdfplumber\n",
    "import spacy\n",
    "import re\n",
    "from wordcloud import WordCloud, STOPWORDS"
   ]
  },
  {
   "cell_type": "code",
   "execution_count": 2,
   "outputs": [],
   "source": [
    "# (1) Read PDF and Convert It into Excel\n",
    "def drop_line_breaks(df: pd.DataFrame):\n",
    "    \"\"\"\n",
    "    Function for adjusting the format of the dataframes which PDFPlumber read\n",
    "    :param df: pd.dataframe needing adjusting\n",
    "    :return: dataframe after adjusting\n",
    "    \"\"\"\n",
    "    df['成果名称'] = df['成果名称'].apply(lambda x: x.replace('\\n', ''))\n",
    "    df['主要完成人'] = df['主要完成人'].apply(lambda x: x.replace('\\n', ''))\n",
    "    df['主要完成单位'] = df['主要完成单位'].apply(lambda x: x.replace('\\n', ''))\n",
    "    df = df.reindex(columns=['序号', '成果等级', '成果名称', '主要完成人', '主要完成单位'])\n",
    "    return df\n",
    "\n",
    "\n",
    "# Best Awards\n",
    "with pdfplumber.open('./2022教学成果奖公示（本科）.pdf') as pdf:\n",
    "    page = pdf.pages[0]\n",
    "    table = page.extract_tables()\n",
    "best_awards = pd.DataFrame(table[0][1:], columns=table[0][0])\n",
    "best_awards['成果等级'] = '特等奖'\n",
    "best_awards = drop_line_breaks(best_awards)\n",
    "\n",
    "\n",
    "# Gold Awards\n",
    "gold_awards = pd.DataFrame(table[1][1:], columns=table[1][0])\n",
    "for i in range(1, 8):\n",
    "    with pdfplumber.open('./2022教学成果奖公示（本科）.pdf') as pdf:\n",
    "        page = pdf.pages[i]\n",
    "        table = page.extract_table()\n",
    "    gold_awards = pd.concat([gold_awards, pd.DataFrame(table[1:], columns=table[0])])\n",
    "gold_awards['成果等级'] = '一等奖'\n",
    "gold_awards = drop_line_breaks(gold_awards)\n",
    "\n",
    "\n",
    "# Silver Awards\n",
    "silver_awards = pd.DataFrame()\n",
    "for i in range(8, 59):\n",
    "    with pdfplumber.open('./2022教学成果奖公示（本科）.pdf') as pdf:\n",
    "        page = pdf.pages[i]\n",
    "        table = page.extract_table()\n",
    "    silver_awards = pd.concat([silver_awards, pd.DataFrame(table[1:], columns=table[0])])\n",
    "silver_awards['成果等级'] = '二等奖'\n",
    "silver_awards = drop_line_breaks(silver_awards)\n",
    "\n",
    "\n",
    "# Concat and export\n",
    "awards = pd.concat([best_awards, gold_awards, silver_awards])\n",
    "awards.to_excel('./2022 年高等教育（本科）国家级教学成果奖拟授奖成果公示名单.xlsx', index=False)"
   ],
   "metadata": {
    "collapsed": false
   }
  },
  {
   "cell_type": "code",
   "execution_count": 4,
   "outputs": [],
   "source": [
    "# (2) Export Word Frequency and Wordcloud\n",
    "# Tokenize\n",
    "awards_names = ' '.join(awards['成果名称'])\n",
    "nlp_zh = spacy.load('zh_core_web_lg')\n",
    "doc = nlp_zh(awards_names)\n",
    "tokens = []\n",
    "for token in doc:\n",
    "    tokens.append(token.text)\n",
    "tokens = [token for token in tokens if re.compile(r'[\\u4e00-\\u9fa5]+').match(token)]\n",
    "\n",
    "\n",
    "# Draw Wordcloud\n",
    "wordcloud = WordCloud(font_path='msyh.ttc',\n",
    "                      width=800,\n",
    "                      height=800,\n",
    "                      background_color=\"white\").generate(\" \".join(tokens))\n",
    "wordcloud.to_file(\"wordcloud.jpg\")\n",
    "\n",
    "\n",
    "# Export the Frequency\n",
    "words = pd.DataFrame(tokens, columns=['word']).reset_index()\n",
    "words = words.groupby('word')['index'].agg('count').reset_index().sort_values('index', ascending=False).head(50)\n",
    "words['词汇'] = words['word']\n",
    "words['词频'] = words['index']\n",
    "words = words.drop(['word', 'index'], axis=1)\n",
    "words.to_csv('排名前50词汇词频.txt', index=False)"
   ],
   "metadata": {
    "collapsed": false
   }
  },
  {
   "cell_type": "code",
   "execution_count": 5,
   "outputs": [],
   "source": [
    "# (3) Stat the Awards by Universities\n",
    "awards['主要完成单位'] = awards['主要完成单位'].str.split(',')\n",
    "awards['完成单位数量'] = awards['主要完成单位'].apply(lambda x: len(x))\n",
    "awards['得分'] = awards['成果等级'].apply(lambda x: np.select([x == '特等奖', x == '一等奖', x == '二等奖'], [50, 30, 20]))\n",
    "awards = awards.explode('主要完成单位')\n",
    "awards['各校得分'] = awards['得分']/awards['完成单位数量']\n",
    "awards['特等奖'] = np.where(awards['成果等级'] == '特等奖', 1, 0)\n",
    "awards['一等奖'] = np.where(awards['成果等级'] == '一等奖', 1, 0)\n",
    "awards['二等奖'] = np.where(awards['成果等级'] == '二等奖', 1, 0)\n",
    "schools = pd.DataFrame()\n",
    "schools['特等奖数'] = awards.groupby('主要完成单位')['特等奖'].agg('sum')\n",
    "schools['一等奖数'] = awards.groupby('主要完成单位')['一等奖'].agg('sum')\n",
    "schools['二等奖数'] = awards.groupby('主要完成单位')['二等奖'].agg('sum')\n",
    "schools['得分'] = awards.groupby('主要完成单位')['各校得分'].agg('sum')\n",
    "schools = schools.reset_index()\n",
    "schools.to_excel('各完成单位获奖情况.xlsx', index=False)"
   ],
   "metadata": {
    "collapsed": false
   }
  },
  {
   "cell_type": "code",
   "execution_count": 6,
   "outputs": [],
   "source": [
    "# (4) Stat the Awards by Regions\n",
    "school_list = pd.read_excel('./全国高校名单（2022）.xls')\n",
    "school_list = school_list.drop('Unnamed: 6', axis=1)\n",
    "school_list = school_list.dropna(axis=0)\n",
    "school_list.columns = school_list.iloc[0]\n",
    "school_list = school_list[1:]\n",
    "schools = schools.merge(school_list, left_on='主要完成单位', right_on='学校名称', how='left')\n",
    "regions = pd.DataFrame()\n",
    "regions['特等奖数'] = schools.groupby('所在地')['特等奖数'].agg('sum')\n",
    "regions['一等奖数'] = schools.groupby('所在地')['一等奖数'].agg('sum')\n",
    "regions['二等奖数'] = schools.groupby('所在地')['二等奖数'].agg('sum')\n",
    "regions['得分'] = schools.groupby('所在地')['得分'].agg('sum')\n",
    "regions = regions.reset_index()\n",
    "regions.to_excel('各省区获奖情况.xlsx', index=False)"
   ],
   "metadata": {
    "collapsed": false
   }
  }
 ],
 "metadata": {
  "kernelspec": {
   "display_name": "Python 3",
   "language": "python",
   "name": "python3"
  },
  "language_info": {
   "codemirror_mode": {
    "name": "ipython",
    "version": 2
   },
   "file_extension": ".py",
   "mimetype": "text/x-python",
   "name": "python",
   "nbconvert_exporter": "python",
   "pygments_lexer": "ipython2",
   "version": "2.7.6"
  }
 },
 "nbformat": 4,
 "nbformat_minor": 0
}
